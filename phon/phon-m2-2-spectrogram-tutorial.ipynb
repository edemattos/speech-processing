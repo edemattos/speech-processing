{
 "cells": [
  {
   "cell_type": "markdown",
   "metadata": {},
   "source": [
    "# Module 2: PHON Tutorial - Spectrograms\n",
    "\n",
    "## Before the Tutorial Session  \n",
    "\n",
    "Later in the course we will build digit recognisers. Can you identify a digit from its corresponding spectrogram?  \n",
    "\n",
    "In your tutorial group before the session, rename each spectrogram in [digit_spectrograms](tutorial2/digit_spectrograms) (or see linked images below) with a digit between 0 and 9. Suggested method: \n",
    "\n",
    "1. For each digit (zero, one, two, etc), predict the IPA segment \n",
    "\n",
    "2. Align your predicted segments to the spectrograms \n",
    "\n",
    "3. Match the spectrograms to the digits \n",
    "\n",
    "Which digits are hard to decipher?  \n",
    "\n",
    "Which spectrograms look the most similar? \n",
    "\n",
    "_Jason T recorded these on his laptop, observe the background noise._"
   ]
  },
  {
   "cell_type": "markdown",
   "metadata": {},
   "source": [
    "### The spectrograms"
   ]
  },
  {
   "cell_type": "markdown",
   "metadata": {},
   "source": [
    "* [A.png](https://laic.github.io/uoe_speech_processing_course/phon/tutorial2/digit_spectrograms/A.png)\n",
    "\n",
    "![A.png](https://laic.github.io/uoe_speech_processing_course/phon/tutorial2/digit_spectrograms/A.png)"
   ]
  },
  {
   "cell_type": "markdown",
   "metadata": {},
   "source": [
    "**[sɛvən]** leading alveolar fricative is characterized by noise with intensity; two similar vowels surround a labiodental fricative (less salient noise)"
   ]
  },
  {
   "cell_type": "markdown",
   "metadata": {},
   "source": [
    "* [B.png](https://laic.github.io/uoe_speech_processing_course/phon/tutorial2/digit_spectrograms/B.png)\n",
    "\n",
    "![B.png](https://laic.github.io/uoe_speech_processing_course/phon/tutorial2/digit_spectrograms/B.png)"
   ]
  },
  {
   "cell_type": "markdown",
   "metadata": {},
   "source": [
    "**[fɔɹ]** frication followed by a back vowel (low F2) and rhoticity (striations)"
   ]
  },
  {
   "cell_type": "markdown",
   "metadata": {},
   "source": [
    "* [C.png](https://laic.github.io/uoe_speech_processing_course/phon/tutorial2/digit_spectrograms/C.png)\n",
    "\n",
    "![C.png](https://laic.github.io/uoe_speech_processing_course/phon/tutorial2/digit_spectrograms/C.png)"
   ]
  },
  {
   "cell_type": "markdown",
   "metadata": {},
   "source": [
    "**[θɹi]** dental fricative (noisy), retroflex approximant (quasi-indiscernible), high (low F1) front (high F2) vowel"
   ]
  },
  {
   "cell_type": "markdown",
   "metadata": {},
   "source": [
    "* [D.png](https://laic.github.io/uoe_speech_processing_course/phon/tutorial2/digit_spectrograms/D.png)\n",
    "\n",
    "![D.png](https://laic.github.io/uoe_speech_processing_course/phon/tutorial2/digit_spectrograms/D.png)"
   ]
  },
  {
   "cell_type": "markdown",
   "metadata": {},
   "source": [
    "**[ɛɪt]** front vowel diphthong (with height increasing indicated by diverging F1 and F2) followed by aspirated plosive"
   ]
  },
  {
   "cell_type": "markdown",
   "metadata": {},
   "source": [
    "* [E.png](https://laic.github.io/uoe_speech_processing_course/phon/tutorial2/digit_spectrograms/E.png)\n",
    "\n",
    "![E.png](https://laic.github.io/uoe_speech_processing_course/phon/tutorial2/digit_spectrograms/E.png)"
   ]
  },
  {
   "cell_type": "markdown",
   "metadata": {},
   "source": [
    "**[faɪv]** first and last phones are noisy, indicating frication; front vowel diphthong with height shown by diverging F1 and F2"
   ]
  },
  {
   "cell_type": "markdown",
   "metadata": {},
   "source": [
    "* [F.png](https://laic.github.io/uoe_speech_processing_course/phon/tutorial2/digit_spectrograms/F.png)\n",
    "\n",
    "![F.png](https://laic.github.io/uoe_speech_processing_course/phon/tutorial2/digit_spectrograms/F.png)"
   ]
  },
  {
   "cell_type": "markdown",
   "metadata": {},
   "source": [
    "**[wʌn]** glide eases into a back vowel, voiced nasal consonant"
   ]
  },
  {
   "cell_type": "markdown",
   "metadata": {},
   "source": [
    "* [G.png](https://laic.github.io/uoe_speech_processing_course/phon/tutorial2/digit_spectrograms/G.png)\n",
    "\n",
    "![G.png](https://laic.github.io/uoe_speech_processing_course/phon/tutorial2/digit_spectrograms/G.png)"
   ]
  },
  {
   "cell_type": "markdown",
   "metadata": {},
   "source": [
    "**[naɪn]** voiced nasal followed by front vowel diphthong and another voiced nasal"
   ]
  },
  {
   "cell_type": "markdown",
   "metadata": {},
   "source": [
    "* [H.png](https://laic.github.io/uoe_speech_processing_course/phon/tutorial2/digit_spectrograms/H.png)\n",
    "\n",
    "![H.png](https://laic.github.io/uoe_speech_processing_course/phon/tutorial2/digit_spectrograms/H.png)"
   ]
  },
  {
   "cell_type": "markdown",
   "metadata": {},
   "source": [
    "**[tu]** abrupt onset followed by high (low F1) back (low F2) vowel"
   ]
  },
  {
   "cell_type": "markdown",
   "metadata": {},
   "source": [
    "* [I.png](https://laic.github.io/uoe_speech_processing_course/phon/tutorial2/digit_spectrograms/Ipng)\n",
    "\n",
    "![I.png](https://laic.github.io/uoe_speech_processing_course/phon/tutorial2/digit_spectrograms/I.png)"
   ]
  },
  {
   "cell_type": "markdown",
   "metadata": {},
   "source": [
    "**[ziɹoʊ]** frication followed by high vowel, rhoticity and back vowels"
   ]
  },
  {
   "cell_type": "markdown",
   "metadata": {},
   "source": [
    "* [J.png](https://laic.github.io/uoe_speech_processing_course/phon/tutorial2/digit_spectrograms/J.png)\n",
    "\n",
    "![J.png](https://laic.github.io/uoe_speech_processing_course/phon/tutorial2/digit_spectrograms/J.png)"
   ]
  },
  {
   "cell_type": "markdown",
   "metadata": {},
   "source": [
    "**[sɪks]** first and last phones are identical with a high vowel (low-frequency formants) and a plosive in between"
   ]
  },
  {
   "cell_type": "markdown",
   "metadata": {},
   "source": [
    "¯\\\\\\_(ツ)\\_/¯"
   ]
  },
  {
   "cell_type": "code",
   "execution_count": null,
   "metadata": {},
   "outputs": [],
   "source": []
  }
 ],
 "metadata": {
  "kernelspec": {
   "display_name": "Python 3",
   "language": "python",
   "name": "python3"
  },
  "language_info": {
   "codemirror_mode": {
    "name": "ipython",
    "version": 3
   },
   "file_extension": ".py",
   "mimetype": "text/x-python",
   "name": "python",
   "nbconvert_exporter": "python",
   "pygments_lexer": "ipython3",
   "version": "3.8.5"
  }
 },
 "nbformat": 4,
 "nbformat_minor": 4
}
